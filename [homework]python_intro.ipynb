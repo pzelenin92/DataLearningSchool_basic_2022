{
 "nbformat": 4,
 "nbformat_minor": 0,
 "metadata": {
  "kernelspec": {
   "display_name": "Python 3",
   "language": "python",
   "name": "python3"
  },
  "language_info": {
   "codemirror_mode": {
    "name": "ipython",
    "version": 3
   },
   "file_extension": ".py",
   "mimetype": "text/x-python",
   "name": "python",
   "nbconvert_exporter": "python",
   "pygments_lexer": "ipython3",
   "version": "3.7.3"
  },
  "colab": {
   "name": "[homework]python_intro.ipynb",
   "provenance": [],
   "collapsed_sections": []
  }
 },
 "cells": [
  {
   "cell_type": "markdown",
   "metadata": {
    "id": "y1GvSl7RYATs"
   },
   "source": [
    "<p style=\"align: center;\"><img align=center src=\"https://s8.hostingkartinok.com/uploads/images/2018/08/308b49fcfbc619d629fe4604bceb67ac.jpg\" width=500 height=450/></p>\n",
    "\n",
    "<h3 style=\"text-align: center;\"><b>Курс \"Глубокое обучение\"</b></h3>\n",
    "\n",
    "<h2 style=\"text-align: center;\"><b>Домашнее задание. Основы Python</b></h2>\n",
    "\n",
    "Вам предлагается решить задачи ниже. Решения необходимо сдавать в Stepik."
   ]
  },
  {
   "cell_type": "markdown",
   "metadata": {
    "id": "MDEu6tZQYATy"
   },
   "source": [
    "### Почти двойной факториал\n",
    "Дано натуральное $N \\leqslant 100$.  Выведите произведение всех нечётных натуральных чисел, не превосходящих $N$."
   ]
  },
  {
   "cell_type": "code",
   "metadata": {
    "id": "5GgcNVy1YAT0"
   },
   "source": [
    "N = 25\n",
    "\n",
    "#YOUR CODE\n",
    "\n",
    "N_double_fact = #YOUR CODE\n",
    "\n",
    "assert N_double_fact == 7905853580625, \"Something is wrong! Please try again\""
   ],
   "execution_count": 5,
   "outputs": [
    {
     "ename": "SyntaxError",
     "evalue": "invalid syntax (1088278258.py, line 5)",
     "output_type": "error",
     "traceback": [
      "\u001B[0;36m  Input \u001B[0;32mIn [5]\u001B[0;36m\u001B[0m\n\u001B[0;31m    N_double_fact = #YOUR CODE\u001B[0m\n\u001B[0m                    ^\u001B[0m\n\u001B[0;31mSyntaxError\u001B[0m\u001B[0;31m:\u001B[0m invalid syntax\n"
     ]
    }
   ]
  },
  {
   "cell_type": "code",
   "execution_count": 4,
   "outputs": [
    {
     "name": "stdout",
     "output_type": "stream",
     "text": [
      "hello world\n"
     ]
    }
   ],
   "source": [
    "print(\"hello world\")"
   ],
   "metadata": {
    "collapsed": false,
    "pycharm": {
     "name": "#%%\n"
    }
   }
  },
  {
   "cell_type": "markdown",
   "metadata": {
    "id": "A57_204nYAT3"
   },
   "source": [
    "### Хитрая сортировка\n",
    "\n",
    "Пусть у нас есть следующий список, в котором элементы -- tuple из строк:\n",
    "\n",
    "``items = [('one', 'two'), ('three', 'four'), ('five', 'six'), ('string', 'a')]``\n",
    "\n",
    "Мы хотим отсортировать этот список по последней букве второго элемента каждого ``tuple``, т.е. получить такой список:\n",
    "\n",
    "``sorted_items = [('string', 'a'), ('one', 'two'), ('three', 'four'), ('five', 'six')]``.\n",
    "Что нужно вставить вместо \"###\" в следующем выражении, чтобы получить сортировку?\n",
    "\n",
    "``sorted_items = sorted(items, key=lambda x: ###)``"
   ]
  },
  {
   "cell_type": "code",
   "metadata": {
    "id": "SnIk7m_8YAT4"
   },
   "source": [
    "items = [('one', 'two'), ('three', 'four'), ('five', 'six'), ('string', 'a')]\n",
    "\n",
    "sorted_items = sorted(items, key=lambda x: <YOUR CODE>)\n",
    "                      \n",
    "assert sorted_items == [('string', 'a'), ('one', 'two'), ('three', 'four'), ('five', 'six')], \\\n",
    "\"Something is wrong! Please try again\""
   ],
   "execution_count": null,
   "outputs": []
  },
  {
   "cell_type": "markdown",
   "metadata": {
    "id": "f_ggknIxYAT7"
   },
   "source": [
    "### Слайсы\n",
    "\n",
    "Дан код:\n",
    "\n",
    "``x = [1, 2, 3, 4, 5]``\n",
    "\n",
    "``x[###] = [-1, -3, -5]``\n",
    "\n",
    "``print(x)``\n",
    "\n",
    "Напишите слайс вместо ###, чтобы на экран вывелось:\n",
    "\n",
    "``[-5, 2, -3, 4, -1]``"
   ]
  },
  {
   "cell_type": "code",
   "metadata": {
    "id": "JcLMmkF6YAT8"
   },
   "source": [
    "x = [1, 2, 3, 4, 5]\n",
    "x[<YOUR CODE>] = [-1, -3, -5]\n",
    "\n",
    "assert x == [-5, 2, -3, 4, -1]"
   ],
   "execution_count": null,
   "outputs": []
  },
  {
   "cell_type": "markdown",
   "metadata": {
    "id": "3QOrzr1_YAT_"
   },
   "source": [
    "### Создание массивов\n",
    "Дан массив $A[0,\\ldots,N-1]$. Напишите функцию, принимающую один обязательный аргумент A и один опциональный аргумент ``erase``, по умолчанию равный 1. Возвратите массив $B[0,\\ldots, N-1]$, где $B_i = A_0 + \\ldots + A_{i}$ --- массив частичных сумм массива $A$, предварительно удалив из массива $B$ все элементы, равные erase. Постарайтесь сделать это за линейное время без использования Numpy."
   ]
  },
  {
   "cell_type": "code",
   "metadata": {
    "id": "GSeVXF-xYAUA"
   },
   "source": [
    "def cumsum_and_erase(a,erase=1):\n",
    "    #YOUR CODE\n",
    "    B=list()\n",
    "    for i in range(len(a)):\n",
    "        B.append(sum(a[:i+1]))\n",
    "    to_delete = B.count(erase)\n",
    "    for i in range(to_delete):\n",
    "        B.remove(erase)\n",
    "    return B\n",
    "\n",
    "A = [5, 1, 4, 5, 14]\n",
    "B = cumsum_and_erase(A, erase=10)\n",
    "\n",
    "print(B)\n",
    "\n",
    "assert B == [5, 6, 15, 29], \"Something is wrong! Please try again\""
   ],
   "execution_count": 14,
   "outputs": [
    {
     "name": "stdout",
     "output_type": "stream",
     "text": [
      "[5, 6, 15, 29]\n"
     ]
    }
   ]
  },
  {
   "cell_type": "code",
   "metadata": {
    "id": "GBzS-UHZYAUE"
   },
   "source": [
    "### Обработка текста\n",
    "Дан список текстов, слова в которых разделены пробелами (можно считать, что знаков препинания нет). Часть слов является \"мусорными\": в них присутствуют цифры и спецсимволы. Отфильтруйте такие слова из каждого текста. Используйте функции ``str.split``, ``str.isalpha``, ``str.join``, а также [генератор filter](http://pythonicway.com/python-functinal-programming)."
   ],
   "execution_count": null,
   "outputs": []
  },
  {
   "cell_type": "code",
   "execution_count": 55,
   "outputs": [],
   "source": [
    "def process(sentences):\n",
    "    #YOUR CODE\n",
    "    resulted_list=[]\n",
    "    for i in range(len(sentences)):\n",
    "        splitted_sentence = sentences[i].split()\n",
    "        for j in splitted_sentence:\n",
    "            if not j.isalpha():\n",
    "                splitted_sentence.remove(j)\n",
    "        joined_sentence=\" \".join(splitted_sentence)\n",
    "        resulted_list.append(joined_sentence)\n",
    "    result = resulted_list\n",
    "    return result"
   ],
   "metadata": {
    "collapsed": false,
    "pycharm": {
     "name": "#%%\n"
    }
   }
  },
  {
   "cell_type": "code",
   "execution_count": 50,
   "outputs": [],
   "source": [
    "input_sentence=['1 thousand devils', 'My name is 9Pasha', 'Room #125 costs $100', '888']"
   ],
   "metadata": {
    "collapsed": false,
    "pycharm": {
     "name": "#%%\n"
    }
   }
  },
  {
   "cell_type": "code",
   "execution_count": 51,
   "outputs": [],
   "source": [
    "input_sentence1=['1 1thousand 1devils', 'My name is 9Pasha', 'Room #125 costs $100', '888']"
   ],
   "metadata": {
    "collapsed": false,
    "pycharm": {
     "name": "#%%\n"
    }
   }
  },
  {
   "cell_type": "code",
   "execution_count": 56,
   "outputs": [
    {
     "ename": "KeyboardInterrupt",
     "evalue": "",
     "output_type": "error",
     "traceback": [
      "\u001B[0;31m---------------------------------------------------------------------------\u001B[0m",
      "\u001B[0;31mKeyboardInterrupt\u001B[0m                         Traceback (most recent call last)",
      "Input \u001B[0;32mIn [56]\u001B[0m, in \u001B[0;36m<module>\u001B[0;34m\u001B[0m\n\u001B[0;32m----> 1\u001B[0m \u001B[43mprocess\u001B[49m\u001B[43m(\u001B[49m\u001B[43minput_sentence1\u001B[49m\u001B[43m)\u001B[49m\n",
      "Input \u001B[0;32mIn [55]\u001B[0m, in \u001B[0;36mprocess\u001B[0;34m(sentences)\u001B[0m\n\u001B[1;32m      5\u001B[0m splitted_sentence \u001B[38;5;241m=\u001B[39m sentences[i]\u001B[38;5;241m.\u001B[39msplit()\n\u001B[1;32m      6\u001B[0m \u001B[38;5;28;01mfor\u001B[39;00m j \u001B[38;5;129;01min\u001B[39;00m splitted_sentence:\n\u001B[0;32m----> 7\u001B[0m     \u001B[38;5;28;01mif\u001B[39;00m \u001B[38;5;129;01mnot\u001B[39;00m \u001B[43mj\u001B[49m\u001B[38;5;241m.\u001B[39misalpha():\n\u001B[1;32m      8\u001B[0m         splitted_sentence\u001B[38;5;241m.\u001B[39mremove(j)\n\u001B[1;32m      9\u001B[0m joined_sentence\u001B[38;5;241m=\u001B[39m\u001B[38;5;124m\"\u001B[39m\u001B[38;5;124m \u001B[39m\u001B[38;5;124m\"\u001B[39m\u001B[38;5;241m.\u001B[39mjoin(splitted_sentence)\n",
      "Input \u001B[0;32mIn [55]\u001B[0m, in \u001B[0;36mprocess\u001B[0;34m(sentences)\u001B[0m\n\u001B[1;32m      5\u001B[0m splitted_sentence \u001B[38;5;241m=\u001B[39m sentences[i]\u001B[38;5;241m.\u001B[39msplit()\n\u001B[1;32m      6\u001B[0m \u001B[38;5;28;01mfor\u001B[39;00m j \u001B[38;5;129;01min\u001B[39;00m splitted_sentence:\n\u001B[0;32m----> 7\u001B[0m     \u001B[38;5;28;01mif\u001B[39;00m \u001B[38;5;129;01mnot\u001B[39;00m \u001B[43mj\u001B[49m\u001B[38;5;241m.\u001B[39misalpha():\n\u001B[1;32m      8\u001B[0m         splitted_sentence\u001B[38;5;241m.\u001B[39mremove(j)\n\u001B[1;32m      9\u001B[0m joined_sentence\u001B[38;5;241m=\u001B[39m\u001B[38;5;124m\"\u001B[39m\u001B[38;5;124m \u001B[39m\u001B[38;5;124m\"\u001B[39m\u001B[38;5;241m.\u001B[39mjoin(splitted_sentence)\n",
      "File \u001B[0;32m_pydevd_bundle/pydevd_cython_darwin_310_64.pyx:1180\u001B[0m, in \u001B[0;36m_pydevd_bundle.pydevd_cython_darwin_310_64.SafeCallWrapper.__call__\u001B[0;34m()\u001B[0m\n",
      "File \u001B[0;32m_pydevd_bundle/pydevd_cython_darwin_310_64.pyx:621\u001B[0m, in \u001B[0;36m_pydevd_bundle.pydevd_cython_darwin_310_64.PyDBFrame.trace_dispatch\u001B[0;34m()\u001B[0m\n",
      "File \u001B[0;32m_pydevd_bundle/pydevd_cython_darwin_310_64.pyx:1096\u001B[0m, in \u001B[0;36m_pydevd_bundle.pydevd_cython_darwin_310_64.PyDBFrame.trace_dispatch\u001B[0;34m()\u001B[0m\n",
      "File \u001B[0;32m_pydevd_bundle/pydevd_cython_darwin_310_64.pyx:1054\u001B[0m, in \u001B[0;36m_pydevd_bundle.pydevd_cython_darwin_310_64.PyDBFrame.trace_dispatch\u001B[0;34m()\u001B[0m\n",
      "File \u001B[0;32m~/Library/Application Support/JetBrains/Toolbox/apps/DataSpell/ch-0/213.6777.49/DataSpell.app/Contents/plugins/python-ce/helpers-pro/jupyter_debug/pydev_jupyter_plugin.py:165\u001B[0m, in \u001B[0;36mstop\u001B[0;34m(plugin, pydb, frame, event, args, stop_info, arg, step_cmd)\u001B[0m\n\u001B[1;32m    163\u001B[0m     frame \u001B[38;5;241m=\u001B[39m suspend_jupyter(main_debugger, thread, frame, step_cmd)\n\u001B[1;32m    164\u001B[0m     \u001B[38;5;28;01mif\u001B[39;00m frame:\n\u001B[0;32m--> 165\u001B[0m         \u001B[43mmain_debugger\u001B[49m\u001B[38;5;241;43m.\u001B[39;49m\u001B[43mdo_wait_suspend\u001B[49m\u001B[43m(\u001B[49m\u001B[43mthread\u001B[49m\u001B[43m,\u001B[49m\u001B[43m \u001B[49m\u001B[43mframe\u001B[49m\u001B[43m,\u001B[49m\u001B[43m \u001B[49m\u001B[43mevent\u001B[49m\u001B[43m,\u001B[49m\u001B[43m \u001B[49m\u001B[43marg\u001B[49m\u001B[43m)\u001B[49m\n\u001B[1;32m    166\u001B[0m         \u001B[38;5;28;01mreturn\u001B[39;00m \u001B[38;5;28;01mTrue\u001B[39;00m\n\u001B[1;32m    167\u001B[0m \u001B[38;5;28;01mreturn\u001B[39;00m \u001B[38;5;28;01mFalse\u001B[39;00m\n",
      "File \u001B[0;32m~/Library/Application Support/JetBrains/Toolbox/apps/DataSpell/ch-0/213.6777.49/DataSpell.app/Contents/plugins/python-ce/helpers/pydev/pydevd.py:1147\u001B[0m, in \u001B[0;36mPyDB.do_wait_suspend\u001B[0;34m(self, thread, frame, event, arg, send_suspend_message, is_unhandled_exception)\u001B[0m\n\u001B[1;32m   1144\u001B[0m         from_this_thread\u001B[38;5;241m.\u001B[39mappend(frame_id)\n\u001B[1;32m   1146\u001B[0m \u001B[38;5;28;01mwith\u001B[39;00m \u001B[38;5;28mself\u001B[39m\u001B[38;5;241m.\u001B[39m_threads_suspended_single_notification\u001B[38;5;241m.\u001B[39mnotify_thread_suspended(thread_id, stop_reason):\n\u001B[0;32m-> 1147\u001B[0m     \u001B[38;5;28;43mself\u001B[39;49m\u001B[38;5;241;43m.\u001B[39;49m\u001B[43m_do_wait_suspend\u001B[49m\u001B[43m(\u001B[49m\u001B[43mthread\u001B[49m\u001B[43m,\u001B[49m\u001B[43m \u001B[49m\u001B[43mframe\u001B[49m\u001B[43m,\u001B[49m\u001B[43m \u001B[49m\u001B[43mevent\u001B[49m\u001B[43m,\u001B[49m\u001B[43m \u001B[49m\u001B[43marg\u001B[49m\u001B[43m,\u001B[49m\u001B[43m \u001B[49m\u001B[43msuspend_type\u001B[49m\u001B[43m,\u001B[49m\u001B[43m \u001B[49m\u001B[43mfrom_this_thread\u001B[49m\u001B[43m)\u001B[49m\n",
      "File \u001B[0;32m~/Library/Application Support/JetBrains/Toolbox/apps/DataSpell/ch-0/213.6777.49/DataSpell.app/Contents/plugins/python-ce/helpers/pydev/pydevd.py:1162\u001B[0m, in \u001B[0;36mPyDB._do_wait_suspend\u001B[0;34m(self, thread, frame, event, arg, suspend_type, from_this_thread)\u001B[0m\n\u001B[1;32m   1159\u001B[0m             \u001B[38;5;28mself\u001B[39m\u001B[38;5;241m.\u001B[39m_call_mpl_hook()\n\u001B[1;32m   1161\u001B[0m         \u001B[38;5;28mself\u001B[39m\u001B[38;5;241m.\u001B[39mprocess_internal_commands()\n\u001B[0;32m-> 1162\u001B[0m         \u001B[43mtime\u001B[49m\u001B[38;5;241;43m.\u001B[39;49m\u001B[43msleep\u001B[49m\u001B[43m(\u001B[49m\u001B[38;5;241;43m0.01\u001B[39;49m\u001B[43m)\u001B[49m\n\u001B[1;32m   1164\u001B[0m \u001B[38;5;28mself\u001B[39m\u001B[38;5;241m.\u001B[39mcancel_async_evaluation(get_current_thread_id(thread), \u001B[38;5;28mstr\u001B[39m(\u001B[38;5;28mid\u001B[39m(frame)))\n\u001B[1;32m   1166\u001B[0m \u001B[38;5;66;03m# process any stepping instructions\u001B[39;00m\n",
      "\u001B[0;31mKeyboardInterrupt\u001B[0m: "
     ]
    }
   ],
   "source": [
    "process(input_sentence1)\n"
   ],
   "metadata": {
    "collapsed": false,
    "pycharm": {
     "name": "#%%\n"
    }
   }
  },
  {
   "cell_type": "code",
   "execution_count": 25,
   "outputs": [],
   "source": [
    "res=process(input_sentence)"
   ],
   "metadata": {
    "collapsed": false,
    "pycharm": {
     "name": "#%%\n"
    }
   }
  },
  {
   "cell_type": "code",
   "execution_count": 26,
   "outputs": [
    {
     "data": {
      "text/plain": "''"
     },
     "execution_count": 26,
     "metadata": {},
     "output_type": "execute_result"
    }
   ],
   "source": [
    "res[3]"
   ],
   "metadata": {
    "collapsed": false,
    "pycharm": {
     "name": "#%%\n"
    }
   }
  },
  {
   "cell_type": "code",
   "execution_count": 32,
   "outputs": [
    {
     "data": {
      "text/plain": "False"
     },
     "execution_count": 32,
     "metadata": {},
     "output_type": "execute_result"
    }
   ],
   "source": [
    "res[3] == \" \""
   ],
   "metadata": {
    "collapsed": false,
    "pycharm": {
     "name": "#%%\n"
    }
   }
  },
  {
   "cell_type": "code",
   "execution_count": 27,
   "outputs": [
    {
     "data": {
      "text/plain": "str"
     },
     "execution_count": 27,
     "metadata": {},
     "output_type": "execute_result"
    }
   ],
   "source": [
    "type(res[3])"
   ],
   "metadata": {
    "collapsed": false,
    "pycharm": {
     "name": "#%%\n"
    }
   }
  },
  {
   "cell_type": "code",
   "execution_count": 30,
   "outputs": [],
   "source": [
    "stringa=\"1\"\n",
    "stringa2=\" \".join(\"\")\n"
   ],
   "metadata": {
    "collapsed": false,
    "pycharm": {
     "name": "#%%\n"
    }
   }
  },
  {
   "cell_type": "code",
   "execution_count": 31,
   "outputs": [
    {
     "data": {
      "text/plain": "''"
     },
     "execution_count": 31,
     "metadata": {},
     "output_type": "execute_result"
    }
   ],
   "source": [
    "stringa2"
   ],
   "metadata": {
    "collapsed": false,
    "pycharm": {
     "name": "#%%\n"
    }
   }
  },
  {
   "cell_type": "code",
   "execution_count": 43,
   "outputs": [
    {
     "data": {
      "text/plain": "False"
     },
     "execution_count": 43,
     "metadata": {},
     "output_type": "execute_result"
    }
   ],
   "source": [
    "\"1asdf\".isalpha()"
   ],
   "metadata": {
    "collapsed": false,
    "pycharm": {
     "name": "#%%\n"
    }
   }
  },
  {
   "cell_type": "markdown",
   "metadata": {
    "id": "EK5Llgf7YAUG"
   },
   "source": [
    "### Собственный класс \"Нейрон\"\n",
    "Реализуйте класс \"Нейрон\", у которого будет несколько методов: \n",
    "\n",
    "* ``__init__``. Принимает на вход массив весов нейрона --- $w = (w_1, \\ldots, w_n)$, а также функцию активации $f$ (по умолчанию $f(x) = x$). Сохраняет веса и функцию внутри класса.\n",
    "\n",
    "* ``forward``. Принимает на вход массив $x = (x_1, \\ldots, x_N)$ --- входы нейрона. Возвращает $f(w_1x_1 + \\ldots + w_nx_n)$.\n",
    "\n",
    "* ``backlog``. Возвращает последний массив $x$, который подавался функции ``forward`` на вход. \n",
    "\n",
    "Если у вас появились трудности, информация по созданию своих классов есть здесь: https://pythonworld.ru/osnovy/obektno-orientirovannoe-programmirovanie-obshhee-predstavlenie.html"
   ]
  },
  {
   "cell_type": "code",
   "metadata": {
    "id": "ZmUVu7fNYAUH"
   },
   "source": [
    "class Neuron:\n",
    "    \n",
    "    def __init__(self, w, f = lambda x: x):\n",
    "        #YOUR CODE HERE\n",
    "    \n",
    "    def forward(self, x):\n",
    "        #YOUR CODE HERE\n",
    "        \n",
    "    def backlog(self):\n",
    "        #YOUR CODE HERE"
   ],
   "execution_count": null,
   "outputs": []
  },
  {
   "cell_type": "code",
   "metadata": {
    "id": "g6OIjuZhYAUK"
   },
   "source": [
    "import math\n",
    "\n",
    "w = [0.5, 1., -1., 2.]\n",
    "\n",
    "neuron = Neuron([0.5, 1., -1., 2.], lambda x: 1. / (1 + math.exp(x)))\n",
    "\n",
    "x = [1, 2, 3, 4]\n",
    "\n",
    "assert abs(neuron.forward(x) - 0.0005527) < 1e-6, \"Something is wrong! Please try again\"\n",
    "\n",
    "assert neuron.backlog() == x, \"Something is wrong! Please try again\"\n",
    "\n",
    "y = [0, 0, 0, 0]\n",
    "\n",
    "assert abs(neuron.forward(y) - 0.5) < 1e-6, \"Something is wrong! Please try again\""
   ],
   "execution_count": null,
   "outputs": []
  }
 ]
}